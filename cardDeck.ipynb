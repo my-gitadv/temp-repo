{
 "cells": [
  {
   "cell_type": "markdown",
   "metadata": {},
   "source": [
    "# A deck of cards contains 52 cards starts from A(1) to K with\n",
    "# 4 suits which are clubs (♣), diamonds (♦), hearts (♥), and spades (♠)\n",
    "# A 2 3 4 5 6 7 8 9 10 J Q K\n",
    "# PART 1\n",
    "# Try building a new deck and print the deck.\n",
    "# example => deck = [\"A♣\",\"2♣\",...,\"K♠\"] (52 elements)"
   ]
  },
  {
   "cell_type": "code",
   "execution_count": null,
   "metadata": {},
   "outputs": [],
   "source": [
    "# create tuple of number and type of card then plite with comma\n",
    "\n",
    "number = (\"A 2 3 4 5 6 7 8 9 10 J Q K\").split()\n",
    "deck = []\n",
    "clubs = ('♣ ♦ ♥ ♠').split()\n",
    "\n",
    "print(number)\n",
    "print(clubs)"
   ]
  },
  {
   "cell_type": "markdown",
   "metadata": {},
   "source": [
    "# example => deck = [\"A♣\",\"2♣\",...,\"K♠\"] (52 elements)"
   ]
  },
  {
   "cell_type": "code",
   "execution_count": null,
   "metadata": {},
   "outputs": [],
   "source": [
    "# Write your code here...\n",
    "\n",
    "def newDeck():\n",
    "  for i in clubs:\n",
    "    for j in number:\n",
    "      print(j + i)\n",
    "      deck.append(j + i)\n",
    "  return deck\n",
    "\n",
    "newDeck()\n",
    "print(len(deck))"
   ]
  },
  {
   "cell_type": "markdown",
   "metadata": {},
   "source": [
    "# PART 2\n",
    "# Shuffle the deck"
   ]
  },
  {
   "cell_type": "code",
   "execution_count": null,
   "metadata": {},
   "outputs": [],
   "source": [
    "# write your code here...\n",
    "import random\n",
    "\n",
    "def shuffle(): \n",
    "    random.shuffle(deck)\n",
    "    # print(deck)\n",
    "    return deck\n",
    "\n",
    "deck = shuffle()\n",
    "print(deck)\n"
   ]
  },
  {
   "cell_type": "markdown",
   "metadata": {},
   "source": [
    "# PART 3\n",
    "\n",
    "# Write a draw function that returns top of the deck, print number of the remaining card and add it to hand and dont forget to sort hand."
   ]
  },
  {
   "cell_type": "code",
   "execution_count": 382,
   "metadata": {},
   "outputs": [],
   "source": [
    "hand = []\n",
    "def toNum(z):\n",
    "    if z == 'A':\n",
    "        return '1'\n",
    "    elif z == '1':\n",
    "        return '10'\n",
    "    elif z == 'J':\n",
    "        return '11'\n",
    "    elif z == 'Q':\n",
    "        return '12'\n",
    "    else:\n",
    "        return '13'\n",
    "\n",
    "def draw():\n",
    "    try:\n",
    "        top = deck.pop(-1)\n",
    "    except: \n",
    "        print(\"No card left\")\n",
    "    else:\n",
    "        for i in range(len(hand)):\n",
    "            x = hand[i][0]\n",
    "            y = top[0]\n",
    "\n",
    "            if x in ['1','A','J','Q','K']:\n",
    "                x = toNum(x)\n",
    "            if y in ['1','A','J','Q','K']:\n",
    "                y = toNum(y)\n",
    "            \n",
    "            if int(x) >= int(y):\n",
    "                hand.insert(i,top)\n",
    "                print(\"Top =\", top)\n",
    "                break\n",
    "        else:\n",
    "            hand.append(top)\n",
    "\n",
    "        print(\"Number of remaining cards =\", len(deck))\n",
    "        return top\n"
   ]
  },
  {
   "cell_type": "code",
   "execution_count": null,
   "metadata": {},
   "outputs": [],
   "source": [
    "draw()\n",
    "print(hand)"
   ]
  },
  {
   "cell_type": "markdown",
   "metadata": {},
   "source": [
    "# PART 4\n",
    "# Write a function that raturn cards on hand onto the deck"
   ]
  },
  {
   "cell_type": "code",
   "execution_count": null,
   "metadata": {},
   "outputs": [],
   "source": [
    "def handToDeck():\n",
    "  global hand\n",
    "  global deck\n",
    "  deck = deck + hand\n",
    "  hand = []\n",
    "  return deck"
   ]
  },
  {
   "cell_type": "code",
   "execution_count": null,
   "metadata": {},
   "outputs": [],
   "source": [
    "print(\"deck\", deck)\n",
    "print(\"hand\", hand)\n",
    "deck = handToDeck()\n",
    "print(\"deck\", deck)\n",
    "print(\"hand\", hand)"
   ]
  }
 ],
 "metadata": {
  "kernelspec": {
   "display_name": "Python 3",
   "language": "python",
   "name": "python3"
  },
  "language_info": {
   "codemirror_mode": {
    "name": "ipython",
    "version": 3
   },
   "file_extension": ".py",
   "mimetype": "text/x-python",
   "name": "python",
   "nbconvert_exporter": "python",
   "pygments_lexer": "ipython3",
   "version": "3.12.2"
  }
 },
 "nbformat": 4,
 "nbformat_minor": 2
}
